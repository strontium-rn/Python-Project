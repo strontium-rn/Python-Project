{
 "cells": [
  {
   "cell_type": "code",
   "execution_count": 14,
   "id": "9303ef70-40fa-4108-9b2c-ae91407404d8",
   "metadata": {},
   "outputs": [
    {
     "name": "stdin",
     "output_type": "stream",
     "text": [
      "Enter your weight in kg: 55\n",
      "Enter your height in meters: 1.70\n"
     ]
    },
    {
     "name": "stdout",
     "output_type": "stream",
     "text": [
      "Your bmi is 19.03\n",
      "Your are normal\n"
     ]
    }
   ],
   "source": [
    "#BMI calculator\n",
    "weight = float(input(\"Enter your weight in kg:\"))\n",
    "height = float(input(\"Enter your height in meters:\" ))\n",
    "\n",
    "bmi = weight / (height ** 2)\n",
    "\n",
    "print(f\"Your bmi is {bmi:.2f}\")\n",
    "if bmi <= 18.4:\n",
    "    print(\"Your are underweight\")\n",
    "elif 18.5<=bmi<=29.9:\n",
    "    print(\"Your are normal\")\n",
    "elif 25<=bmi<=29.9:\n",
    "    print(\"Your are overweight\")\n",
    "else:\n",
    "    print(\"Your are obese, go to gym idiot\")\n",
    "    "
   ]
  },
  {
   "cell_type": "code",
   "execution_count": 4,
   "id": "d1287c92-c37f-4029-9cb1-bc666458045e",
   "metadata": {},
   "outputs": [
    {
     "name": "stdin",
     "output_type": "stream",
     "text": [
      "How many passwords do you want?: 7\n",
      "What should be the length of your passwords?: 8\n"
     ]
    },
    {
     "name": "stdout",
     "output_type": "stream",
     "text": [
      "Your passwords are:\n",
      "#yp9$PV!\n",
      "lvEiU6C%\n",
      "9E%U@YXo\n",
      "6umYYrCo\n",
      "!u1rM#QK\n",
      "^@WAKGjb\n",
      "BGrS0hd$\n"
     ]
    }
   ],
   "source": [
    "#Password Generator\n",
    "\n",
    "import random\n",
    "\n",
    "number = int(input(\"How many passwords do you want?:\"))\n",
    "length = int(input(\"What should be the length of your passwords?:\"))\n",
    "\n",
    "char = 'abcdefghijklmnopqrstuvwxyzABCDEFGHIJKLMNOPQRSTUVWXYZ!@#$%^&*()1234567890'\n",
    "\n",
    "print(\"Your passwords are:\")\n",
    "for pwd in range(number):\n",
    "    password = ''\n",
    "    for i in range(length):\n",
    "        password += random.choice(char)\n",
    "    print(password)"
   ]
  },
  {
   "cell_type": "code",
   "execution_count": null,
   "id": "d4de6610-9163-4142-9331-2bb811dd1e3d",
   "metadata": {},
   "outputs": [],
   "source": []
  }
 ],
 "metadata": {
  "kernelspec": {
   "display_name": "Python 3 (ipykernel)",
   "language": "python",
   "name": "python3"
  },
  "language_info": {
   "codemirror_mode": {
    "name": "ipython",
    "version": 3
   },
   "file_extension": ".py",
   "mimetype": "text/x-python",
   "name": "python",
   "nbconvert_exporter": "python",
   "pygments_lexer": "ipython3",
   "version": "3.11.8"
  }
 },
 "nbformat": 4,
 "nbformat_minor": 5
}
