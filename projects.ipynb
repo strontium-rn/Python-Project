{
 "cells": [
  {
   "cell_type": "code",
   "execution_count": 14,
   "id": "9303ef70-40fa-4108-9b2c-ae91407404d8",
   "metadata": {},
   "outputs": [
    {
     "name": "stdin",
     "output_type": "stream",
     "text": [
      "Enter your weight in kg: 55\n",
      "Enter your height in meters: 1.70\n"
     ]
    },
    {
     "name": "stdout",
     "output_type": "stream",
     "text": [
      "Your bmi is 19.03\n",
      "Your are normal\n"
     ]
    }
   ],
   "source": [
    "#BMI calculator\n",
    "weight = float(input(\"Enter your weight in kg:\"))\n",
    "height = float(input(\"Enter your height in meters:\" ))\n",
    "\n",
    "bmi = weight / (height ** 2)\n",
    "\n",
    "print(f\"Your bmi is {bmi:.2f}\")\n",
    "if bmi <= 18.4:\n",
    "    print(\"Your are underweight\")\n",
    "elif 18.5<=bmi<=29.9:\n",
    "    print(\"Your are normal\")\n",
    "elif 25<=bmi<=29.9:\n",
    "    print(\"Your are overweight\")\n",
    "else:\n",
    "    print(\"Your are obese, go to gym idiot\")\n",
    "    "
   ]
  },
  {
   "cell_type": "code",
   "execution_count": 2,
   "id": "d1287c92-c37f-4029-9cb1-bc666458045e",
   "metadata": {},
   "outputs": [
    {
     "name": "stdin",
     "output_type": "stream",
     "text": [
      "How many passwords do you want?: 2\n",
      "What should be the length of your passwords?: 4\n"
     ]
    },
    {
     "name": "stdout",
     "output_type": "stream",
     "text": [
      "Your passwords are:\n",
      "wM8*\n",
      "$cEc\n"
     ]
    }
   ],
   "source": [
    "#Password Generator\n",
    "\n",
    "import random\n",
    "\n",
    "number = int(input(\"How many passwords do you want?:\"))\n",
    "length = int(input(\"What should be the length of your passwords?:\"))\n",
    "\n",
    "char = ('abcdefghijklmnopqrstuvwxyzABCDEFGHIJKLMNOPQRSTUVWXYZ!@#$%^&*()1234567890')\n",
    "\n",
    "print(\"Your passwords are:\")\n",
    "for pwd in range(number):\n",
    "    password = ''\n",
    "    for i in range(length):\n",
    "        password += random.choice(char)\n",
    "    print(password)"
   ]
  },
  {
   "cell_type": "code",
   "execution_count": 14,
   "id": "d4de6610-9163-4142-9331-2bb811dd1e3d",
   "metadata": {},
   "outputs": [
    {
     "ename": "TypeError",
     "evalue": "'int' object is not callable",
     "output_type": "error",
     "traceback": [
      "\u001b[1;31m---------------------------------------------------------------------------\u001b[0m",
      "\u001b[1;31mTypeError\u001b[0m                                 Traceback (most recent call last)",
      "Cell \u001b[1;32mIn[14], line 13\u001b[0m\n\u001b[0;32m     11\u001b[0m         time \u001b[38;5;241m-\u001b[39m\u001b[38;5;241m=\u001b[39m \u001b[38;5;241m1\u001b[39m\n\u001b[0;32m     12\u001b[0m     \u001b[38;5;28mprint\u001b[39m(\u001b[38;5;124m\"\u001b[39m\u001b[38;5;124mTimer is done! Go get a coffee\u001b[39m\u001b[38;5;124m\"\u001b[39m)\n\u001b[1;32m---> 13\u001b[0m t \u001b[38;5;241m=\u001b[39m \u001b[38;5;28mint\u001b[39m(\u001b[38;5;28;43minput\u001b[39;49m\u001b[43m(\u001b[49m\u001b[38;5;124;43m\"\u001b[39;49m\u001b[38;5;124;43mEnter time in seconds:\u001b[39;49m\u001b[38;5;124;43m\"\u001b[39;49m\u001b[43m)\u001b[49m)\n\u001b[0;32m     15\u001b[0m countdown(t)\n",
      "\u001b[1;31mTypeError\u001b[0m: 'int' object is not callable"
     ]
    }
   ],
   "source": [
    "#timer\n",
    "\n",
    "import time\n",
    "\n",
    "def countdown(t):\n",
    "    while t:\n",
    "        mins, secs = divmod (t,60)\n",
    "        timer = '{:02d} : {:02d}'.format(mins , secs)\n",
    "        print(timer, end='\\r')\n",
    "        time.sleep(1)\n",
    "        time -= 1\n",
    "    print(\"Timer is done! Go get a coffee\")\n",
    "t = int(input(\"Enter time in seconds:\"))\n",
    "\n",
    "countdown(t)"
   ]
  },
  {
   "cell_type": "code",
   "execution_count": null,
   "id": "9ed55df8-487a-413f-ae95-df38fe2ecbbe",
   "metadata": {},
   "outputs": [],
   "source": []
  },
  {
   "cell_type": "code",
   "execution_count": null,
   "id": "1796b579-98bf-4524-9eb1-aad206f11467",
   "metadata": {},
   "outputs": [],
   "source": []
  }
 ],
 "metadata": {
  "kernelspec": {
   "display_name": "Python 3 (ipykernel)",
   "language": "python",
   "name": "python3"
  },
  "language_info": {
   "codemirror_mode": {
    "name": "ipython",
    "version": 3
   },
   "file_extension": ".py",
   "mimetype": "text/x-python",
   "name": "python",
   "nbconvert_exporter": "python",
   "pygments_lexer": "ipython3",
   "version": "3.11.8"
  }
 },
 "nbformat": 4,
 "nbformat_minor": 5
}
