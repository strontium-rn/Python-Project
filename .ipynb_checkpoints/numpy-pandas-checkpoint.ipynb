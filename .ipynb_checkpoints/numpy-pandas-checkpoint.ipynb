{
 "cells": [
  {
   "cell_type": "code",
   "execution_count": 2,
   "id": "9de570aa-adda-4feb-97fe-b16722a9cd82",
   "metadata": {},
   "outputs": [
    {
     "name": "stdout",
     "output_type": "stream",
     "text": [
      "[False False  True  True  True  True]\n",
      "[3 4 5 6]\n"
     ]
    }
   ],
   "source": [
    "import numpy as np\n",
    "\n",
    "arr = np.array([1,2,3,4,5,6])\n",
    "\n",
    "filter_arr =  arr >= 3\n",
    "\n",
    "newarr = arr[filter_arr]\n",
    "\n",
    "print(filter_arr)\n",
    "print(newarr)"
   ]
  },
  {
   "cell_type": "code",
   "execution_count": 3,
   "id": "46d8ca82-ba3b-4eed-9a43-15e9b60e5fc9",
   "metadata": {},
   "outputs": [
    {
     "name": "stdout",
     "output_type": "stream",
     "text": [
      "  department  person\n",
      "0         CS  Pathak\n",
      "1         CE   Sujan\n",
      "2         ME     Yug\n",
      "3         CM    Sups\n"
     ]
    }
   ],
   "source": [
    "import pandas as pd\n",
    "\n",
    "mydict = {\n",
    "    \"department\":[\"CS\", \"CE\", \"ME\", \"CM\"],\n",
    "    \"person\": [\"Pathak\", \"Sujan\", \"Yug\", \"Sups\"]\n",
    "}\n",
    "var = pd.DataFrame(mydict, index=['0','1','2','3'])\n",
    "\n",
    "print(var)"
   ]
  },
  {
   "cell_type": "code",
   "execution_count": null,
   "id": "f69f2ccd-7d29-4701-bdf3-10fe6ced5190",
   "metadata": {},
   "outputs": [],
   "source": [
    "from collections import Counter\n",
    "import re\n",
    "\n",
    "def find_most_repeated_word(poem_text):\n",
    "    # Tokenize the text into words\n",
    "    words = re.findall(r'\\b\\w+\\b', poem_text.lower())  # Using regular expression to find words\n",
    "\n",
    "    # Count the occurrences of each word\n",
    "    word_counts = Counter(words)\n",
    "\n",
    "    # Find the most common word\n",
    "    most_common_word, count = word_counts.most_common(1)[0]\n",
    "\n",
    "    return most_common_word, count\n",
    "\n",
    "if __name__ == \"__main__\":\n",
    "    # Input the poem as an array of lines\n",
    "    poem_lines = [\n",
    "        \"Two roads diverged in a yellow wood,\",\n",
    "        \"And sorry I could not travel both\",\n",
    "        \"And be one traveler, long I stood\",\n",
    "        \"And looked down one as far as I could\",\n",
    "        \"To where it bent in the undergrowth;\"\n",
    "        \"Then took the other, as just as fair,\",\n",
    "        \"And having perhaps the better claim,\",\n",
    "        \"Because it was grassy and wanted wear;\",\n",
    "        \"Though as for that the passing there\",\n",
    "        \"Had worn them really about the same,\",\n",
    "        \"And both that morning equally lay\",\n",
    "        \"In leaves no step had trodden black.\",\n",
    "        \"Oh, I kept the first for another day!\",\n",
    "        \"Yet knowing how way leads on to way\",\n",
    "        \"I doubted if I should ever come back.\",\n",
    "        \"I shall be telling this with a sigh\",\n",
    "        \"Somewhere ages and ages hence:\",\n",
    "        \"Two roads diverged in a wood, and I—\",\n",
    "        \"I took the one less traveled by,\",\n",
    "        \"And that has made all the difference.\"       \n",
    "    ]\n",
    "\n",
    "    # Join the lines to form the poem text\n",
    "    poem_text = '\\n'.join(poem_lines)\n",
    "\n",
    "    most_common_word, count = find_most_repeated_word(poem_text)\n",
    "    print(f\"The most repeated word in the poem is '{most_common_word}' with a count of {count}.\")\n"
   ]
  },
  {
   "cell_type": "code",
   "execution_count": null,
   "id": "72199f2d-2303-4bcb-a24a-41f6e50409e6",
   "metadata": {},
   "outputs": [],
   "source": []
  }
 ],
 "metadata": {
  "kernelspec": {
   "display_name": "Python 3 (ipykernel)",
   "language": "python",
   "name": "python3"
  },
  "language_info": {
   "codemirror_mode": {
    "name": "ipython",
    "version": 3
   },
   "file_extension": ".py",
   "mimetype": "text/x-python",
   "name": "python",
   "nbconvert_exporter": "python",
   "pygments_lexer": "ipython3",
   "version": "3.11.8"
  }
 },
 "nbformat": 4,
 "nbformat_minor": 5
}
