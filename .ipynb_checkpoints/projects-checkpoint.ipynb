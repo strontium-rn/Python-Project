{
 "cells": [
  {
   "cell_type": "code",
   "execution_count": 14,
   "id": "9303ef70-40fa-4108-9b2c-ae91407404d8",
   "metadata": {},
   "outputs": [
    {
     "name": "stdin",
     "output_type": "stream",
     "text": [
      "Enter your weight in kg: 55\n",
      "Enter your height in meters: 1.70\n"
     ]
    },
    {
     "name": "stdout",
     "output_type": "stream",
     "text": [
      "Your bmi is 19.03\n",
      "Your are normal\n"
     ]
    }
   ],
   "source": [
    "#BMI calculator\n",
    "weight = float(input(\"Enter your weight in kg:\"))\n",
    "height = float(input(\"Enter your height in meters:\" ))\n",
    "\n",
    "bmi = weight / (height ** 2)\n",
    "\n",
    "print(f\"Your bmi is {bmi:.2f}\")\n",
    "if bmi <= 18.4:\n",
    "    print(\"Your are underweight\")\n",
    "elif 18.5<=bmi<=29.9:\n",
    "    print(\"Your are normal\")\n",
    "elif 25<=bmi<=29.9:\n",
    "    print(\"Your are overweight\")\n",
    "else:\n",
    "    print(\"Your are obese, go to gym idiot\")\n",
    "    "
   ]
  },
  {
   "cell_type": "code",
   "execution_count": 2,
   "id": "d1287c92-c37f-4029-9cb1-bc666458045e",
   "metadata": {},
   "outputs": [
    {
     "name": "stdin",
     "output_type": "stream",
     "text": [
      "How many passwords do you want?: 2\n",
      "What should be the length of your passwords?: 4\n"
     ]
    },
    {
     "name": "stdout",
     "output_type": "stream",
     "text": [
      "Your passwords are:\n",
      "wM8*\n",
      "$cEc\n"
     ]
    }
   ],
   "source": [
    "#Password Generator\n",
    "\n",
    "import random\n",
    "\n",
    "number = int(input(\"How many passwords do you want?:\"))\n",
    "length = int(input(\"What should be the length of your passwords?:\"))\n",
    "\n",
    "char = ('abcdefghijklmnopqrstuvwxyzABCDEFGHIJKLMNOPQRSTUVWXYZ!@#$%^&*()1234567890')\n",
    "\n",
    "print(\"Your passwords are:\")\n",
    "for pwd in range(number):\n",
    "    password = ''\n",
    "    for i in range(length):\n",
    "        password += random.choice(char)\n",
    "    print(password)"
   ]
  },
  {
   "cell_type": "code",
   "execution_count": 7,
   "id": "d4de6610-9163-4142-9331-2bb811dd1e3d",
   "metadata": {},
   "outputs": [
    {
     "ename": "AttributeError",
     "evalue": "module 'segno' has no attribute 'qr_make'",
     "output_type": "error",
     "traceback": [
      "\u001b[1;31m---------------------------------------------------------------------------\u001b[0m",
      "\u001b[1;31mAttributeError\u001b[0m                            Traceback (most recent call last)",
      "Cell \u001b[1;32mIn[7], line 7\u001b[0m\n\u001b[0;32m      3\u001b[0m \u001b[38;5;28;01mimport\u001b[39;00m \u001b[38;5;21;01msegno\u001b[39;00m\n\u001b[0;32m      5\u001b[0m data \u001b[38;5;241m=\u001b[39m (\u001b[38;5;124m\"\u001b[39m\u001b[38;5;124mhttps://youtu.be/dQw4w9WgXcQ?si=DpkCufQNE1Bx6hOK\u001b[39m\u001b[38;5;124m\"\u001b[39m)\n\u001b[1;32m----> 7\u001b[0m qr_code \u001b[38;5;241m=\u001b[39m \u001b[43msegno\u001b[49m\u001b[38;5;241;43m.\u001b[39;49m\u001b[43mqr_make\u001b[49m(data)\n\u001b[0;32m      9\u001b[0m qr_code\u001b[38;5;241m.\u001b[39msave()\n",
      "\u001b[1;31mAttributeError\u001b[0m: module 'segno' has no attribute 'qr_make'"
     ]
    }
   ],
   "source": [
    "#qr code \n",
    "\n",
    "import qrcode\n",
    "\n",
    "data = (\"https://youtu.be/dQw4w9WgXcQ?si=DpkCufQNE1Bx6hOK\")\n",
    "\n",
    "img = qrcode.make(data)\n",
    "\n",
    "img.save('C:/Users/patha/OneDrive/Desktop/Python Project/qrcode/qrcode1.png')\n",
    "\n"
   ]
  },
  {
   "cell_type": "code",
   "execution_count": null,
   "id": "9ed55df8-487a-413f-ae95-df38fe2ecbbe",
   "metadata": {},
   "outputs": [],
   "source": []
  },
  {
   "cell_type": "code",
   "execution_count": null,
   "id": "1796b579-98bf-4524-9eb1-aad206f11467",
   "metadata": {},
   "outputs": [],
   "source": []
  }
 ],
 "metadata": {
  "kernelspec": {
   "display_name": "Python 3 (ipykernel)",
   "language": "python",
   "name": "python3"
  },
  "language_info": {
   "codemirror_mode": {
    "name": "ipython",
    "version": 3
   },
   "file_extension": ".py",
   "mimetype": "text/x-python",
   "name": "python",
   "nbconvert_exporter": "python",
   "pygments_lexer": "ipython3",
   "version": "3.11.8"
  }
 },
 "nbformat": 4,
 "nbformat_minor": 5
}
