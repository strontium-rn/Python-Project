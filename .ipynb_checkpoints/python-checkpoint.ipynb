{
 "cells": [
  {
   "cell_type": "code",
   "execution_count": 1,
   "id": "0edbd7c9-b86a-4bd5-86f8-95cebf937b2d",
   "metadata": {},
   "outputs": [
    {
     "name": "stdout",
     "output_type": "stream",
     "text": [
      "The most repeated word in the poem is 'and' with a count of 9.\n"
     ]
    }
   ],
   "source": [
    "from collections import Counter\n",
    "import re\n",
    "\n",
    "def find_most_repeated_word(poem_text):\n",
    "    # Tokenize the text into words\n",
    "    words = re.findall(r'\\b\\w+\\b', poem_text.lower())  # Using regular expression to find words\n",
    "\n",
    "    # Count the occurrences of each word\n",
    "    word_counts = Counter(words)\n",
    "\n",
    "    # Find the most common word\n",
    "    most_common_word, count = word_counts.most_common(1)[0]\n",
    "\n",
    "    return most_common_word, count\n",
    "\n",
    "if __name__ == \"__main__\":\n",
    "    # Input the poem as an array of lines\n",
    "    poem_lines = [\n",
    "        \"Two roads diverged in a yellow wood,\",\n",
    "        \"And sorry I could not travel both\",\n",
    "        \"And be one traveler, long I stood\",\n",
    "        \"And looked down one as far as I could\",\n",
    "        \"To where it bent in the undergrowth;\"\n",
    "        \"Then took the other, as just as fair,\",\n",
    "        \"And having perhaps the better claim,\",\n",
    "        \"Because it was grassy and wanted wear;\",\n",
    "        \"Though as for that the passing there\",\n",
    "        \"Had worn them really about the same,\",\n",
    "        \"And both that morning equally lay\",\n",
    "        \"In leaves no step had trodden black.\",\n",
    "        \"Oh, I kept the first for another day!\",\n",
    "        \"Yet knowing how way leads on to way\",\n",
    "        \"I doubted if I should ever come back.\",\n",
    "        \"I shall be telling this with a sigh\",\n",
    "        \"Somewhere ages and ages hence:\",\n",
    "        \"Two roads diverged in a wood, and I—\",\n",
    "        \"I took the one less traveled by,\",\n",
    "        \"And that has made all the difference.\"       \n",
    "    ]\n",
    "\n",
    "    # Join the lines to form the poem text\n",
    "    poem_text = '\\n'.join(poem_lines)\n",
    "\n",
    "    most_common_word, count = find_most_repeated_word(poem_text)\n",
    "    print(f\"The most repeated word in the poem is '{most_common_word}' with a count of {count}.\")\n"
   ]
  },
  {
   "cell_type": "code",
   "execution_count": 1,
   "id": "6abfcd62-52d1-41d6-9326-9208084ba0ed",
   "metadata": {},
   "outputs": [
    {
     "name": "stdout",
     "output_type": "stream",
     "text": [
      "['Hello']\n"
     ]
    }
   ],
   "source": [
    "my_string=\"Hello\" \n",
    "split_text = my_string.split(\",\")\n",
    "print(split_text)"
   ]
  },
  {
   "cell_type": "code",
   "execution_count": 2,
   "id": "b9005474-41f2-407d-9cfc-3e88eed0a326",
   "metadata": {},
   "outputs": [
    {
     "name": "stdout",
     "output_type": "stream",
     "text": [
      "<class 'float'>\n"
     ]
    }
   ],
   "source": [
    "x = 1/1\n",
    "print(type(x))"
   ]
  },
  {
   "cell_type": "code",
   "execution_count": 1,
   "id": "c64e75fa-1cae-444b-b614-78b77450d448",
   "metadata": {},
   "outputs": [
    {
     "name": "stdout",
     "output_type": "stream",
     "text": [
      "At 0, I found apple\n",
      "At 1, I found banana\n",
      "At 2, I found orange\n"
     ]
    }
   ],
   "source": [
    "fruits = [\"apple\", \"banana\", \"orange\"]\n",
    "\n",
    "for index,fruit in enumerate(fruits):\n",
    "    print(f\"At {index}, I found {fruit}\")"
   ]
  },
  {
   "cell_type": "code",
   "execution_count": 1,
   "id": "23a54e81-f138-4d4d-9962-6c8fdb8797bb",
   "metadata": {},
   "outputs": [
    {
     "name": "stdout",
     "output_type": "stream",
     "text": [
      "x= A  y= 2\n"
     ]
    }
   ],
   "source": [
    "class Points(object):\n",
    "\n",
    "  def __init__(self,x,y):\n",
    "\n",
    "    self.x=x\n",
    "    self.y=y\n",
    "\n",
    "  def print_point(self):\n",
    "\n",
    "    print('x=',self.x,' y=',self.y)\n",
    "\n",
    "p2=Points(1,2)\n",
    "\n",
    "p2.x='A'\n",
    "\n",
    "p2.print_point()"
   ]
  },
  {
   "cell_type": "code",
   "execution_count": 2,
   "id": "05b8a67b-6fdf-4068-98fa-4968d38598f4",
   "metadata": {},
   "outputs": [
    {
     "name": "stdout",
     "output_type": "stream",
     "text": [
      "Go \n",
      "Mike\n"
     ]
    }
   ],
   "source": [
    "x=\"Go\"\n",
    "\n",
    "if(x==\"Go\"):\n",
    "\n",
    "  print('Go ')\n",
    "\n",
    "else:\n",
    "\n",
    "  print('Stop')\n",
    "\n",
    "print('Mike')"
   ]
  },
  {
   "cell_type": "code",
   "execution_count": 3,
   "id": "520ab3b0-8b16-46d6-9483-4d4299c4195f",
   "metadata": {},
   "outputs": [
    {
     "name": "stdout",
     "output_type": "stream",
     "text": [
      "x= 1  y= 2\n"
     ]
    }
   ],
   "source": [
    "class Points(object):\n",
    "  def __init__(self,x,y):\n",
    "\n",
    "    self.x=x\n",
    "    self.y=y\n",
    "\n",
    "  def print_point(self):\n",
    "\n",
    "    print('x=',self.x,' y=',self.y)\n",
    "\n",
    "p1=Points(1,2)\n",
    "p1.print_point()"
   ]
  },
  {
   "cell_type": "code",
   "execution_count": 4,
   "id": "0c6b2e8c-9f6c-49d0-98b5-a958ad8e3a48",
   "metadata": {},
   "outputs": [
    {
     "name": "stdout",
     "output_type": "stream",
     "text": [
      "0 AA\n",
      "1 BB\n",
      "2 CC\n"
     ]
    }
   ],
   "source": [
    "for i,x in enumerate(['A','B','C']):\n",
    "    print(i,2*x)"
   ]
  },
  {
   "cell_type": "code",
   "execution_count": 5,
   "id": "48acd6fb-98a2-4275-a738-7eec68d93bc4",
   "metadata": {},
   "outputs": [
    {
     "name": "stdout",
     "output_type": "stream",
     "text": [
      "101\n"
     ]
    }
   ],
   "source": [
    "a=1\n",
    "\n",
    "def do(x):\n",
    "    a=100\n",
    "    return(x+a)\n",
    "\n",
    "print(do(1))\n"
   ]
  },
  {
   "cell_type": "code",
   "execution_count": 8,
   "id": "ad218c8b-9079-4682-b687-657c82b39296",
   "metadata": {},
   "outputs": [
    {
     "data": {
      "text/plain": [
       "7"
      ]
     },
     "execution_count": 8,
     "metadata": {},
     "output_type": "execute_result"
    }
   ],
   "source": [
    "def add(x,y):\n",
    "    output = x+y\n",
    "    return output\n",
    "add(3,4)\n"
   ]
  },
  {
   "cell_type": "code",
   "execution_count": 12,
   "id": "3a4f3ff2-8d99-451a-95fa-0bffdd4ad0cf",
   "metadata": {},
   "outputs": [
    {
     "name": "stdout",
     "output_type": "stream",
     "text": [
      "x= A  y= 2\n"
     ]
    }
   ],
   "source": [
    "class Points(object):\n",
    "\n",
    "  def __init__(self,x,y):\n",
    "\n",
    "    self.x=x\n",
    "    self.y=y\n",
    "\n",
    "  def print_point(self):\n",
    "\n",
    "    print('x=',self.x,' y=',self.y)\n",
    "\n",
    "p2=Points(1,2)\n",
    "\n",
    "p2.x='A'\n",
    "\n",
    "p2.print_point()"
   ]
  },
  {
   "cell_type": "code",
   "execution_count": 2,
   "id": "3cf7fae0-c6f4-4553-bccc-94996217753f",
   "metadata": {},
   "outputs": [
    {
     "data": {
      "text/plain": [
       "('Example1.txt', <http.client.HTTPMessage at 0x2904e6df710>)"
      ]
     },
     "execution_count": 2,
     "metadata": {},
     "output_type": "execute_result"
    }
   ],
   "source": [
    " import urllib.request\n",
    " url = 'https://cf-courses-data.s3.us.cloud-object-storage.appdomain.cloud/IBMDeveloperSkillsNetwork-PY0101EN-SkillsNetwork/labs/Module%204/data/example1.txt'\n",
    " filename = 'Example1.txt'\n",
    " urllib.request.urlretrieve(url, filename)\n",
    "\n",
    "## Download Example file\n",
    "# !wget Example1.txt https://cf-courses-data.s3.us.cloud-object-storage.appdomain.cloud/IBMDeveloperSkillsNetwork-PY0101EN-SkillsNetwork/labs/Module%204/data/example1.txt"
   ]
  },
  {
   "cell_type": "code",
   "execution_count": 1,
   "id": "e92a5206-09b5-43c4-bc85-f282b54a873a",
   "metadata": {},
   "outputs": [],
   "source": [
    "with open (\"example.txt\", \"w\") as file1:\n",
    "    file1.write(\"This is line A\\n\")\n",
    "    file1.write(\"This is line B \\n\")\n",
    "print(file1)"
   ]
  },
  {
   "cell_type": "code",
   "execution_count": null,
   "id": "1adc773b-933e-4135-9089-62bf50273718",
   "metadata": {},
   "outputs": [],
   "source": []
  }
 ],
 "metadata": {
  "kernelspec": {
   "display_name": "Python 3 (ipykernel)",
   "language": "python",
   "name": "python3"
  },
  "language_info": {
   "codemirror_mode": {
    "name": "ipython",
    "version": 3
   },
   "file_extension": ".py",
   "mimetype": "text/x-python",
   "name": "python",
   "nbconvert_exporter": "python",
   "pygments_lexer": "ipython3",
   "version": "3.11.8"
  }
 },
 "nbformat": 4,
 "nbformat_minor": 5
}
