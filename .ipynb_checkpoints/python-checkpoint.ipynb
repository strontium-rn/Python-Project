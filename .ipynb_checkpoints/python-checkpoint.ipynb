{
 "cells": [
  {
   "cell_type": "code",
   "execution_count": 1,
   "id": "0edbd7c9-b86a-4bd5-86f8-95cebf937b2d",
   "metadata": {},
   "outputs": [
    {
     "name": "stdout",
     "output_type": "stream",
     "text": [
      "The most repeated word in the poem is 'and' with a count of 9.\n"
     ]
    }
   ],
   "source": [
    "from collections import Counter\n",
    "import re\n",
    "\n",
    "def find_most_repeated_word(poem_text):\n",
    "    # Tokenize the text into words\n",
    "    words = re.findall(r'\\b\\w+\\b', poem_text.lower())  # Using regular expression to find words\n",
    "\n",
    "    # Count the occurrences of each word\n",
    "    word_counts = Counter(words)\n",
    "\n",
    "    # Find the most common word\n",
    "    most_common_word, count = word_counts.most_common(1)[0]\n",
    "\n",
    "    return most_common_word, count\n",
    "\n",
    "if __name__ == \"__main__\":\n",
    "    # Input the poem as an array of lines\n",
    "    poem_lines = [\n",
    "        \"Two roads diverged in a yellow wood,\",\n",
    "        \"And sorry I could not travel both\",\n",
    "        \"And be one traveler, long I stood\",\n",
    "        \"And looked down one as far as I could\",\n",
    "        \"To where it bent in the undergrowth;\"\n",
    "        \"Then took the other, as just as fair,\",\n",
    "        \"And having perhaps the better claim,\",\n",
    "        \"Because it was grassy and wanted wear;\",\n",
    "        \"Though as for that the passing there\",\n",
    "        \"Had worn them really about the same,\",\n",
    "        \"And both that morning equally lay\",\n",
    "        \"In leaves no step had trodden black.\",\n",
    "        \"Oh, I kept the first for another day!\",\n",
    "        \"Yet knowing how way leads on to way\",\n",
    "        \"I doubted if I should ever come back.\",\n",
    "        \"I shall be telling this with a sigh\",\n",
    "        \"Somewhere ages and ages hence:\",\n",
    "        \"Two roads diverged in a wood, and I—\",\n",
    "        \"I took the one less traveled by,\",\n",
    "        \"And that has made all the difference.\"       \n",
    "    ]\n",
    "\n",
    "    # Join the lines to form the poem text\n",
    "    poem_text = '\\n'.join(poem_lines)\n",
    "\n",
    "    most_common_word, count = find_most_repeated_word(poem_text)\n",
    "    print(f\"The most repeated word in the poem is '{most_common_word}' with a count of {count}.\")\n"
   ]
  },
  {
   "cell_type": "code",
   "execution_count": 1,
   "id": "6abfcd62-52d1-41d6-9326-9208084ba0ed",
   "metadata": {},
   "outputs": [
    {
     "name": "stdout",
     "output_type": "stream",
     "text": [
      "['Hello']\n"
     ]
    }
   ],
   "source": [
    "my_string=\"Hello\" \n",
    "split_text = my_string.split(\",\")\n",
    "print(split_text)"
   ]
  },
  {
   "cell_type": "code",
   "execution_count": null,
   "id": "b9005474-41f2-407d-9cfc-3e88eed0a326",
   "metadata": {},
   "outputs": [],
   "source": [
    "x = 1/1\n",
    "print(type(x))"
   ]
  }
 ],
 "metadata": {
  "kernelspec": {
   "display_name": "Python 3 (ipykernel)",
   "language": "python",
   "name": "python3"
  },
  "language_info": {
   "codemirror_mode": {
    "name": "ipython",
    "version": 3
   },
   "file_extension": ".py",
   "mimetype": "text/x-python",
   "name": "python",
   "nbconvert_exporter": "python",
   "pygments_lexer": "ipython3",
   "version": "3.11.8"
  }
 },
 "nbformat": 4,
 "nbformat_minor": 5
}
