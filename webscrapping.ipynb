{
 "cells": [
  {
   "cell_type": "code",
   "execution_count": 2,
   "id": "97baa6e4-9039-4ede-a9db-c95463bec8a4",
   "metadata": {},
   "outputs": [],
   "source": [
    "import requests\n",
    "from bs4 import BeautifulSoup"
   ]
  },
  {
   "cell_type": "code",
   "execution_count": null,
   "id": "f71305c2-2615-4221-be10-30a7c6100204",
   "metadata": {},
   "outputs": [],
   "source": [
    "url = 'https://www.onlinekhabar.com/'\n",
    "response = requests.get(url)\n",
    "soup = BeautfulSoap(response.content, 'html.parser')\n",
    "articles = soup.find_all('h2', class_ = 'title')\n",
    "\n",
    "with open "
   ]
  }
 ],
 "metadata": {
  "kernelspec": {
   "display_name": "Python 3 (ipykernel)",
   "language": "python",
   "name": "python3"
  },
  "language_info": {
   "codemirror_mode": {
    "name": "ipython",
    "version": 3
   },
   "file_extension": ".py",
   "mimetype": "text/x-python",
   "name": "python",
   "nbconvert_exporter": "python",
   "pygments_lexer": "ipython3",
   "version": "3.11.9"
  }
 },
 "nbformat": 4,
 "nbformat_minor": 5
}
