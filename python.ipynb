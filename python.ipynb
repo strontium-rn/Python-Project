{
 "cells": [
  {
   "cell_type": "code",
   "execution_count": 1,
   "id": "0edbd7c9-b86a-4bd5-86f8-95cebf937b2d",
   "metadata": {},
   "outputs": [
    {
     "name": "stdout",
     "output_type": "stream",
     "text": [
      "The most repeated word in the poem is 'and' with a count of 9.\n"
     ]
    }
   ],
   "source": [
    "from collections import Counter\n",
    "import re\n",
    "\n",
    "def find_most_repeated_word(poem_text):\n",
    "    # Tokenize the text into words\n",
    "    words = re.findall(r'\\b\\w+\\b', poem_text.lower())  # Using regular expression to find words\n",
    "\n",
    "    # Count the occurrences of each word\n",
    "    word_counts = Counter(words)\n",
    "\n",
    "    # Find the most common word\n",
    "    most_common_word, count = word_counts.most_common(1)[0]\n",
    "\n",
    "    return most_common_word, count\n",
    "\n",
    "if __name__ == \"__main__\":\n",
    "    # Input the poem as an array of lines\n",
    "    poem_lines = [\n",
    "        \"Two roads diverged in a yellow wood,\",\n",
    "        \"And sorry I could not travel both\",\n",
    "        \"And be one traveler, long I stood\",\n",
    "        \"And looked down one as far as I could\",\n",
    "        \"To where it bent in the undergrowth;\"\n",
    "        \"Then took the other, as just as fair,\",\n",
    "        \"And having perhaps the better claim,\",\n",
    "        \"Because it was grassy and wanted wear;\",\n",
    "        \"Though as for that the passing there\",\n",
    "        \"Had worn them really about the same,\",\n",
    "        \"And both that morning equally lay\",\n",
    "        \"In leaves no step had trodden black.\",\n",
    "        \"Oh, I kept the first for another day!\",\n",
    "        \"Yet knowing how way leads on to way\",\n",
    "        \"I doubted if I should ever come back.\",\n",
    "        \"I shall be telling this with a sigh\",\n",
    "        \"Somewhere ages and ages hence:\",\n",
    "        \"Two roads diverged in a wood, and I—\",\n",
    "        \"I took the one less traveled by,\",\n",
    "        \"And that has made all the difference.\"       \n",
    "    ]\n",
    "\n",
    "    # Join the lines to form the poem text\n",
    "    poem_text = '\\n'.join(poem_lines)\n",
    "\n",
    "    most_common_word, count = find_most_repeated_word(poem_text)\n",
    "    print(f\"The most repeated word in the poem is '{most_common_word}' with a count of {count}.\")\n"
   ]
  },
  {
   "cell_type": "code",
   "execution_count": 1,
   "id": "6abfcd62-52d1-41d6-9326-9208084ba0ed",
   "metadata": {},
   "outputs": [
    {
     "name": "stdout",
     "output_type": "stream",
     "text": [
      "['Hello']\n"
     ]
    }
   ],
   "source": [
    "my_string=\"Hello\" \n",
    "split_text = my_string.split(\",\")\n",
    "print(split_text)"
   ]
  },
  {
   "cell_type": "code",
   "execution_count": 2,
   "id": "b9005474-41f2-407d-9cfc-3e88eed0a326",
   "metadata": {},
   "outputs": [
    {
     "name": "stdout",
     "output_type": "stream",
     "text": [
      "<class 'float'>\n"
     ]
    }
   ],
   "source": [
    "x = 1/1\n",
    "print(type(x))"
   ]
  },
  {
   "cell_type": "code",
   "execution_count": 1,
   "id": "c64e75fa-1cae-444b-b614-78b77450d448",
   "metadata": {},
   "outputs": [
    {
     "name": "stdout",
     "output_type": "stream",
     "text": [
      "At 0, I found apple\n",
      "At 1, I found banana\n",
      "At 2, I found orange\n"
     ]
    }
   ],
   "source": [
    "fruits = [\"apple\", \"banana\", \"orange\"]\n",
    "\n",
    "for index,fruit in enumerate(fruits):\n",
    "    print(f\"At {index}, I found {fruit}\")"
   ]
  },
  {
   "cell_type": "code",
   "execution_count": 1,
   "id": "23a54e81-f138-4d4d-9962-6c8fdb8797bb",
   "metadata": {},
   "outputs": [
    {
     "name": "stdout",
     "output_type": "stream",
     "text": [
      "x= A  y= 2\n"
     ]
    }
   ],
   "source": [
    "class Points(object):\n",
    "\n",
    "  def __init__(self,x,y):\n",
    "\n",
    "    self.x=x\n",
    "    self.y=y\n",
    "\n",
    "  def print_point(self):\n",
    "\n",
    "    print('x=',self.x,' y=',self.y)\n",
    "\n",
    "p2=Points(1,2)\n",
    "\n",
    "p2.x='A'\n",
    "\n",
    "p2.print_point()"
   ]
  },
  {
   "cell_type": "code",
   "execution_count": 2,
   "id": "05b8a67b-6fdf-4068-98fa-4968d38598f4",
   "metadata": {},
   "outputs": [
    {
     "name": "stdout",
     "output_type": "stream",
     "text": [
      "Go \n",
      "Mike\n"
     ]
    }
   ],
   "source": [
    "x=\"Go\"\n",
    "\n",
    "if(x==\"Go\"):\n",
    "\n",
    "  print('Go ')\n",
    "\n",
    "else:\n",
    "\n",
    "  print('Stop')\n",
    "\n",
    "print('Mike')"
   ]
  },
  {
   "cell_type": "code",
   "execution_count": 3,
   "id": "520ab3b0-8b16-46d6-9483-4d4299c4195f",
   "metadata": {},
   "outputs": [
    {
     "name": "stdout",
     "output_type": "stream",
     "text": [
      "x= 1  y= 2\n"
     ]
    }
   ],
   "source": [
    "class Points(object):\n",
    "  def __init__(self,x,y):\n",
    "\n",
    "    self.x=x\n",
    "    self.y=y\n",
    "\n",
    "  def print_point(self):\n",
    "\n",
    "    print('x=',self.x,' y=',self.y)\n",
    "\n",
    "p1=Points(1,2)\n",
    "p1.print_point()"
   ]
  },
  {
   "cell_type": "code",
   "execution_count": 4,
   "id": "0c6b2e8c-9f6c-49d0-98b5-a958ad8e3a48",
   "metadata": {},
   "outputs": [
    {
     "name": "stdout",
     "output_type": "stream",
     "text": [
      "0 AA\n",
      "1 BB\n",
      "2 CC\n"
     ]
    }
   ],
   "source": [
    "for i,x in enumerate(['A','B','C']):\n",
    "    print(i,2*x)"
   ]
  },
  {
   "cell_type": "code",
   "execution_count": 5,
   "id": "48acd6fb-98a2-4275-a738-7eec68d93bc4",
   "metadata": {},
   "outputs": [
    {
     "name": "stdout",
     "output_type": "stream",
     "text": [
      "101\n"
     ]
    }
   ],
   "source": [
    "a=1\n",
    "\n",
    "def do(x):\n",
    "    a=100\n",
    "    return(x+a)\n",
    "\n",
    "print(do(1))\n"
   ]
  },
  {
   "cell_type": "code",
   "execution_count": 8,
   "id": "ad218c8b-9079-4682-b687-657c82b39296",
   "metadata": {},
   "outputs": [
    {
     "data": {
      "text/plain": [
       "7"
      ]
     },
     "execution_count": 8,
     "metadata": {},
     "output_type": "execute_result"
    }
   ],
   "source": [
    "def add(x,y):\n",
    "    output = x+y\n",
    "    return output\n",
    "add(3,4)\n"
   ]
  },
  {
   "cell_type": "code",
   "execution_count": 12,
   "id": "3a4f3ff2-8d99-451a-95fa-0bffdd4ad0cf",
   "metadata": {},
   "outputs": [
    {
     "name": "stdout",
     "output_type": "stream",
     "text": [
      "x= A  y= 2\n"
     ]
    }
   ],
   "source": [
    "class Points(object):\n",
    "\n",
    "  def __init__(self,x,y):\n",
    "\n",
    "    self.x=x\n",
    "    self.y=y\n",
    "\n",
    "  def print_point(self):\n",
    "\n",
    "    print('x=',self.x,' y=',self.y)\n",
    "\n",
    "p2=Points(1,2)\n",
    "\n",
    "p2.x='A'\n",
    "\n",
    "p2.print_point()"
   ]
  },
  {
   "cell_type": "code",
   "execution_count": 2,
   "id": "3cf7fae0-c6f4-4553-bccc-94996217753f",
   "metadata": {},
   "outputs": [
    {
     "data": {
      "text/plain": [
       "('Example1.txt', <http.client.HTTPMessage at 0x2904e6df710>)"
      ]
     },
     "execution_count": 2,
     "metadata": {},
     "output_type": "execute_result"
    }
   ],
   "source": [
    " import urllib.request\n",
    " url = 'https://cf-courses-data.s3.us.cloud-object-storage.appdomain.cloud/IBMDeveloperSkillsNetwork-PY0101EN-SkillsNetwork/labs/Module%204/data/example1.txt'\n",
    " filename = 'Example1.txt'\n",
    " urllib.request.urlretrieve(url, filename)\n",
    "\n",
    "## Download Example file\n",
    "# !wget Example1.txt https://cf-courses-data.s3.us.cloud-object-storage.appdomain.cloud/IBMDeveloperSkillsNetwork-PY0101EN-SkillsNetwork/labs/Module%204/data/example1.txt"
   ]
  },
  {
   "cell_type": "code",
   "execution_count": 2,
   "id": "e92a5206-09b5-43c4-bc85-f282b54a873a",
   "metadata": {},
   "outputs": [
    {
     "name": "stdout",
     "output_type": "stream",
     "text": [
      "<_io.TextIOWrapper name='example.txt' mode='w' encoding='cp1252'>\n"
     ]
    }
   ],
   "source": [
    "with open (\"example.txt\", \"w\") as file1:\n",
    "    file1.write(\"This is line A\\n\")\n",
    "    file1.write(\"This is line B \\n\")\n",
    "print(file1)"
   ]
  },
  {
   "cell_type": "code",
   "execution_count": 16,
   "id": "1adc773b-933e-4135-9089-62bf50273718",
   "metadata": {},
   "outputs": [
    {
     "data": {
      "text/plain": [
       "array([[2, 1],\n",
       "       [1, 2]])"
      ]
     },
     "execution_count": 16,
     "metadata": {},
     "output_type": "execute_result"
    }
   ],
   "source": [
    "import numpy as np\n",
    "X=np.array([[1,0],[0,1]])\n",
    "Y=np.array([[2,1],[1,2]]) \n",
    "Z=np.dot(X,Y)\n",
    "Z\n"
   ]
  },
  {
   "cell_type": "code",
   "execution_count": 17,
   "id": "05aa32d4-42b5-4ad0-8e74-6faacf9ddac4",
   "metadata": {},
   "outputs": [
    {
     "name": "stdout",
     "output_type": "stream",
     "text": [
      "This is line A\n",
      "\n"
     ]
    }
   ],
   "source": [
    "with open(\"Example.txt\",\"r\") as File1:\n",
    "\n",
    "    file_stuff=File1.readline ()\n",
    "\n",
    "    print(file_stuff)"
   ]
  },
  {
   "cell_type": "code",
   "execution_count": 3,
   "id": "5009e341-1c4e-409d-bc9e-d12c500be97d",
   "metadata": {},
   "outputs": [
    {
     "ename": "AttributeError",
     "evalue": "'str' object has no attribute 'read'",
     "output_type": "error",
     "traceback": [
      "\u001b[1;31m---------------------------------------------------------------------------\u001b[0m",
      "\u001b[1;31mAttributeError\u001b[0m                            Traceback (most recent call last)",
      "Cell \u001b[1;32mIn[3], line 8\u001b[0m\n\u001b[0;32m      4\u001b[0m url \u001b[38;5;241m=\u001b[39m \u001b[38;5;124m\"\u001b[39m\u001b[38;5;124mhttps://www.fishwatch.gov/api/species\u001b[39m\u001b[38;5;124m\"\u001b[39m\n\u001b[0;32m      6\u001b[0m data \u001b[38;5;241m=\u001b[39m requests\u001b[38;5;241m.\u001b[39mget(url)\n\u001b[1;32m----> 8\u001b[0m results \u001b[38;5;241m=\u001b[39m \u001b[43mjson\u001b[49m\u001b[38;5;241;43m.\u001b[39;49m\u001b[43mload\u001b[49m\u001b[43m(\u001b[49m\u001b[43mdata\u001b[49m\u001b[38;5;241;43m.\u001b[39;49m\u001b[43mtext\u001b[49m\u001b[43m)\u001b[49m\n\u001b[0;32m     10\u001b[0m \u001b[38;5;28mprint\u001b[39m(results)\n",
      "File \u001b[1;32mC:\\Program Files\\WindowsApps\\PythonSoftwareFoundation.Python.3.11_3.11.2288.0_x64__qbz5n2kfra8p0\\Lib\\json\\__init__.py:293\u001b[0m, in \u001b[0;36mload\u001b[1;34m(fp, cls, object_hook, parse_float, parse_int, parse_constant, object_pairs_hook, **kw)\u001b[0m\n\u001b[0;32m    274\u001b[0m \u001b[38;5;28;01mdef\u001b[39;00m \u001b[38;5;21mload\u001b[39m(fp, \u001b[38;5;241m*\u001b[39m, \u001b[38;5;28mcls\u001b[39m\u001b[38;5;241m=\u001b[39m\u001b[38;5;28;01mNone\u001b[39;00m, object_hook\u001b[38;5;241m=\u001b[39m\u001b[38;5;28;01mNone\u001b[39;00m, parse_float\u001b[38;5;241m=\u001b[39m\u001b[38;5;28;01mNone\u001b[39;00m,\n\u001b[0;32m    275\u001b[0m         parse_int\u001b[38;5;241m=\u001b[39m\u001b[38;5;28;01mNone\u001b[39;00m, parse_constant\u001b[38;5;241m=\u001b[39m\u001b[38;5;28;01mNone\u001b[39;00m, object_pairs_hook\u001b[38;5;241m=\u001b[39m\u001b[38;5;28;01mNone\u001b[39;00m, \u001b[38;5;241m*\u001b[39m\u001b[38;5;241m*\u001b[39mkw):\n\u001b[0;32m    276\u001b[0m \u001b[38;5;250m    \u001b[39m\u001b[38;5;124;03m\"\"\"Deserialize ``fp`` (a ``.read()``-supporting file-like object containing\u001b[39;00m\n\u001b[0;32m    277\u001b[0m \u001b[38;5;124;03m    a JSON document) to a Python object.\u001b[39;00m\n\u001b[0;32m    278\u001b[0m \n\u001b[1;32m   (...)\u001b[0m\n\u001b[0;32m    291\u001b[0m \u001b[38;5;124;03m    kwarg; otherwise ``JSONDecoder`` is used.\u001b[39;00m\n\u001b[0;32m    292\u001b[0m \u001b[38;5;124;03m    \"\"\"\u001b[39;00m\n\u001b[1;32m--> 293\u001b[0m     \u001b[38;5;28;01mreturn\u001b[39;00m loads(\u001b[43mfp\u001b[49m\u001b[38;5;241;43m.\u001b[39;49m\u001b[43mread\u001b[49m(),\n\u001b[0;32m    294\u001b[0m         \u001b[38;5;28mcls\u001b[39m\u001b[38;5;241m=\u001b[39m\u001b[38;5;28mcls\u001b[39m, object_hook\u001b[38;5;241m=\u001b[39mobject_hook,\n\u001b[0;32m    295\u001b[0m         parse_float\u001b[38;5;241m=\u001b[39mparse_float, parse_int\u001b[38;5;241m=\u001b[39mparse_int,\n\u001b[0;32m    296\u001b[0m         parse_constant\u001b[38;5;241m=\u001b[39mparse_constant, object_pairs_hook\u001b[38;5;241m=\u001b[39mobject_pairs_hook, \u001b[38;5;241m*\u001b[39m\u001b[38;5;241m*\u001b[39mkw)\n",
      "\u001b[1;31mAttributeError\u001b[0m: 'str' object has no attribute 'read'"
     ]
    }
   ],
   "source": [
    "import requests\n",
    "import json\n",
    "\n",
    "url = \"https://www.fishwatch.gov/api/species\"\n",
    "\n",
    "data = requests.get(url)\n",
    "\n",
    "results = json.load(data.text)\n",
    "\n",
    "print(results)"
   ]
  },
  {
   "cell_type": "code",
   "execution_count": 17,
   "id": "e5cf254f-a31c-438d-b029-2da92f5988bf",
   "metadata": {},
   "outputs": [
    {
     "data": {
      "text/plain": [
       "array([2, 2, 2, 2, 2])"
      ]
     },
     "execution_count": 17,
     "metadata": {},
     "output_type": "execute_result"
    }
   ],
   "source": [
    "import numpy as np\n",
    "a=np.array([1,1,1,1,1]) \n",
    "a+1"
   ]
  },
  {
   "cell_type": "code",
   "execution_count": null,
   "id": "1eda8dfd-f953-4635-b46a-3862b24842bc",
   "metadata": {},
   "outputs": [],
   "source": []
  }
 ],
 "metadata": {
  "kernelspec": {
   "display_name": "Python 3 (ipykernel)",
   "language": "python",
   "name": "python3"
  },
  "language_info": {
   "codemirror_mode": {
    "name": "ipython",
    "version": 3
   },
   "file_extension": ".py",
   "mimetype": "text/x-python",
   "name": "python",
   "nbconvert_exporter": "python",
   "pygments_lexer": "ipython3",
   "version": "3.11.8"
  }
 },
 "nbformat": 4,
 "nbformat_minor": 5
}
