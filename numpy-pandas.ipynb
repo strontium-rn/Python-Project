{
 "cells": [
  {
   "cell_type": "code",
   "execution_count": 2,
   "id": "9de570aa-adda-4feb-97fe-b16722a9cd82",
   "metadata": {},
   "outputs": [
    {
     "name": "stdout",
     "output_type": "stream",
     "text": [
      "[False False  True  True  True  True]\n",
      "[3 4 5 6]\n"
     ]
    }
   ],
   "source": [
    "import numpy as np\n",
    "\n",
    "arr = np.array([1,2,3,4,5,6])\n",
    "\n",
    "filter_arr =  arr >= 3\n",
    "\n",
    "newarr = arr[filter_arr]\n",
    "\n",
    "print(filter_arr)\n",
    "print(newarr)"
   ]
  },
  {
   "cell_type": "code",
   "execution_count": 3,
   "id": "46d8ca82-ba3b-4eed-9a43-15e9b60e5fc9",
   "metadata": {},
   "outputs": [
    {
     "name": "stdout",
     "output_type": "stream",
     "text": [
      "  department  person\n",
      "0         CS  Pathak\n",
      "1         CE   Sujan\n",
      "2         ME     Yug\n",
      "3         CM    Sups\n"
     ]
    }
   ],
   "source": [
    "import pandas as pd\n",
    "\n",
    "mydict = {\n",
    "    \"department\":[\"CS\", \"CE\", \"ME\", \"CM\"],\n",
    "    \"person\": [\"Pathak\", \"Sujan\", \"Yug\", \"Sups\"]\n",
    "}\n",
    "var = pd.DataFrame(mydict, index=['0','1','2','3'])\n",
    "\n",
    "print(var)"
   ]
  },
  {
   "cell_type": "code",
   "execution_count": 4,
   "id": "f69f2ccd-7d29-4701-bdf3-10fe6ced5190",
   "metadata": {},
   "outputs": [
    {
     "name": "stdout",
     "output_type": "stream",
     "text": [
      "[1 3 1]\n",
      "[10  6 28]\n"
     ]
    }
   ],
   "source": [
    "import numpy as np\n",
    "\n",
    "x = np.array([2,3,4])\n",
    "y = np.array([5,6,7])\n",
    "\n",
    "z = np.gcd(x,y)\n",
    "a = np.lcm(x,y)\n",
    "\n",
    "print(z)\n",
    "print(a)"
   ]
  },
  {
   "cell_type": "code",
   "execution_count": null,
   "id": "72199f2d-2303-4bcb-a24a-41f6e50409e6",
   "metadata": {},
   "outputs": [],
   "source": []
  }
 ],
 "metadata": {
  "kernelspec": {
   "display_name": "Python 3 (ipykernel)",
   "language": "python",
   "name": "python3"
  },
  "language_info": {
   "codemirror_mode": {
    "name": "ipython",
    "version": 3
   },
   "file_extension": ".py",
   "mimetype": "text/x-python",
   "name": "python",
   "nbconvert_exporter": "python",
   "pygments_lexer": "ipython3",
   "version": "3.11.8"
  }
 },
 "nbformat": 4,
 "nbformat_minor": 5
}
